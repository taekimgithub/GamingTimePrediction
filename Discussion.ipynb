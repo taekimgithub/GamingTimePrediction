{
 "cells": [
  {
   "cell_type": "markdown",
   "id": "d0cc8091-bb2e-4114-8c27-421b2cdab89a",
   "metadata": {},
   "source": [
    "**Discussion**\n",
    "\n",
    "**Multivariate Regression: Age vs. Total Hours Played**\n",
    "After a multivariate regression model was trained on the players.csv dataset, we found that the model explains a mere 3.07% of the variance in played_hours (R squared = 0.0307). The rmse of 1.048 indicates that model predictions are on average 1.048 hours off from the true values. \n",
    "\n",
    "While these metrics indicate the age has a very weak relationship with total hours played, when we plot the observations we do find a weak negative relationship. Younger people tend to play more. However, this may be due to a lack of observations for people of higher age. \n",
    "\n",
    "**Multivariate Regression: Experience vs. Total Hours Played**\n",
    "\n"
   ]
  },
  {
   "cell_type": "code",
   "execution_count": null,
   "id": "9be7c9cb-0e3f-405d-8151-4ef7f3835141",
   "metadata": {},
   "outputs": [],
   "source": []
  }
 ],
 "metadata": {
  "kernelspec": {
   "display_name": "R",
   "language": "R",
   "name": "ir"
  },
  "language_info": {
   "codemirror_mode": "r",
   "file_extension": ".r",
   "mimetype": "text/x-r-source",
   "name": "R",
   "pygments_lexer": "r",
   "version": "4.3.3"
  }
 },
 "nbformat": 4,
 "nbformat_minor": 5
}
