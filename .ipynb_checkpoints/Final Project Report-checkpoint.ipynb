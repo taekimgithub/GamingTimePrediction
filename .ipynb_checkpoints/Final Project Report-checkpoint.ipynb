{
 "cells": [
  {
   "cell_type": "markdown",
   "id": "4a478028-c331-4d82-bf39-5375b00f9b6a",
   "metadata": {},
   "source": [
    "***Can We Predict Gaming Duration?***"
   ]
  },
  {
   "cell_type": "markdown",
   "id": "aee85666-aeab-43ff-a296-3d7ca519699b",
   "metadata": {},
   "source": [
    "**Introduction**\n",
    "\n",
    "This project is based on the data of collected by researchers at the Pacific Laboratory for Artificial Intelligence (PLAI) who set up a private server for Minecraft. Players who join the server have their actions recorded. The goal of PLAI is to create an embodied AI that can be interacted with like a real person in virtual worlds (e.g., Minecraft). Check out more [here](https://plaicraft.ai/).\n",
    "\n",
    "We will be using the same dataset, but with a different goal. The goal of this project will be to study how different features in the dataset contribute to gaming time. \n",
    "\n",
    "*More specifically, how do player experience level (veteran and above), age (under 20), and total hours played influence the duration of a game sessions?*\n",
    "\n",
    "Before we get into it, let's take a look at the data we will be using. "
   ]
  },
  {
   "cell_type": "code",
   "execution_count": 6,
   "id": "35c47abd-f9f2-43d9-81e6-10ae17a38f79",
   "metadata": {},
   "outputs": [
    {
     "name": "stderr",
     "output_type": "stream",
     "text": [
      "\u001b[1mRows: \u001b[22m\u001b[34m1535\u001b[39m \u001b[1mColumns: \u001b[22m\u001b[34m5\u001b[39m\n",
      "\u001b[36m──\u001b[39m \u001b[1mColumn specification\u001b[22m \u001b[36m────────────────────────────────────────────────────────\u001b[39m\n",
      "\u001b[1mDelimiter:\u001b[22m \",\"\n",
      "\u001b[31mchr\u001b[39m (3): hashedEmail, start_time, end_time\n",
      "\u001b[32mdbl\u001b[39m (2): original_start_time, original_end_time\n",
      "\n",
      "\u001b[36mℹ\u001b[39m Use `spec()` to retrieve the full column specification for this data.\n",
      "\u001b[36mℹ\u001b[39m Specify the column types or set `show_col_types = FALSE` to quiet this message.\n"
     ]
    },
    {
     "data": {
      "text/html": [
       "<table class=\"dataframe\">\n",
       "<caption>A tibble: 6 × 5</caption>\n",
       "<thead>\n",
       "\t<tr><th scope=col>hashedEmail</th><th scope=col>start_time</th><th scope=col>end_time</th><th scope=col>original_start_time</th><th scope=col>original_end_time</th></tr>\n",
       "\t<tr><th scope=col>&lt;chr&gt;</th><th scope=col>&lt;chr&gt;</th><th scope=col>&lt;chr&gt;</th><th scope=col>&lt;dbl&gt;</th><th scope=col>&lt;dbl&gt;</th></tr>\n",
       "</thead>\n",
       "<tbody>\n",
       "\t<tr><td>bfce39c89d6549f2bb94d8064d3ce69dc3d7e72b38f431d8aa0c4bf95ccee6bf</td><td>30/06/2024 18:12</td><td>30/06/2024 18:24</td><td>1.71977e+12</td><td>1.71977e+12</td></tr>\n",
       "\t<tr><td>36d9cbb4c6bc0c1a6911436d2da0d09ec625e43e6552f575d4acc9cf487c4686</td><td>17/06/2024 23:33</td><td>17/06/2024 23:46</td><td>1.71867e+12</td><td>1.71867e+12</td></tr>\n",
       "\t<tr><td>f8f5477f5a2e53616ae37421b1c660b971192bd8ff77e3398304c7ae42581fdc</td><td>25/07/2024 17:34</td><td>25/07/2024 17:57</td><td>1.72193e+12</td><td>1.72193e+12</td></tr>\n",
       "\t<tr><td>bfce39c89d6549f2bb94d8064d3ce69dc3d7e72b38f431d8aa0c4bf95ccee6bf</td><td>25/07/2024 03:22</td><td>25/07/2024 03:58</td><td>1.72188e+12</td><td>1.72188e+12</td></tr>\n",
       "\t<tr><td>36d9cbb4c6bc0c1a6911436d2da0d09ec625e43e6552f575d4acc9cf487c4686</td><td>25/05/2024 16:01</td><td>25/05/2024 16:12</td><td>1.71665e+12</td><td>1.71665e+12</td></tr>\n",
       "\t<tr><td>bfce39c89d6549f2bb94d8064d3ce69dc3d7e72b38f431d8aa0c4bf95ccee6bf</td><td>23/06/2024 15:08</td><td>23/06/2024 17:10</td><td>1.71916e+12</td><td>1.71916e+12</td></tr>\n",
       "</tbody>\n",
       "</table>\n"
      ],
      "text/latex": [
       "A tibble: 6 × 5\n",
       "\\begin{tabular}{lllll}\n",
       " hashedEmail & start\\_time & end\\_time & original\\_start\\_time & original\\_end\\_time\\\\\n",
       " <chr> & <chr> & <chr> & <dbl> & <dbl>\\\\\n",
       "\\hline\n",
       "\t bfce39c89d6549f2bb94d8064d3ce69dc3d7e72b38f431d8aa0c4bf95ccee6bf & 30/06/2024 18:12 & 30/06/2024 18:24 & 1.71977e+12 & 1.71977e+12\\\\\n",
       "\t 36d9cbb4c6bc0c1a6911436d2da0d09ec625e43e6552f575d4acc9cf487c4686 & 17/06/2024 23:33 & 17/06/2024 23:46 & 1.71867e+12 & 1.71867e+12\\\\\n",
       "\t f8f5477f5a2e53616ae37421b1c660b971192bd8ff77e3398304c7ae42581fdc & 25/07/2024 17:34 & 25/07/2024 17:57 & 1.72193e+12 & 1.72193e+12\\\\\n",
       "\t bfce39c89d6549f2bb94d8064d3ce69dc3d7e72b38f431d8aa0c4bf95ccee6bf & 25/07/2024 03:22 & 25/07/2024 03:58 & 1.72188e+12 & 1.72188e+12\\\\\n",
       "\t 36d9cbb4c6bc0c1a6911436d2da0d09ec625e43e6552f575d4acc9cf487c4686 & 25/05/2024 16:01 & 25/05/2024 16:12 & 1.71665e+12 & 1.71665e+12\\\\\n",
       "\t bfce39c89d6549f2bb94d8064d3ce69dc3d7e72b38f431d8aa0c4bf95ccee6bf & 23/06/2024 15:08 & 23/06/2024 17:10 & 1.71916e+12 & 1.71916e+12\\\\\n",
       "\\end{tabular}\n"
      ],
      "text/markdown": [
       "\n",
       "A tibble: 6 × 5\n",
       "\n",
       "| hashedEmail &lt;chr&gt; | start_time &lt;chr&gt; | end_time &lt;chr&gt; | original_start_time &lt;dbl&gt; | original_end_time &lt;dbl&gt; |\n",
       "|---|---|---|---|---|\n",
       "| bfce39c89d6549f2bb94d8064d3ce69dc3d7e72b38f431d8aa0c4bf95ccee6bf | 30/06/2024 18:12 | 30/06/2024 18:24 | 1.71977e+12 | 1.71977e+12 |\n",
       "| 36d9cbb4c6bc0c1a6911436d2da0d09ec625e43e6552f575d4acc9cf487c4686 | 17/06/2024 23:33 | 17/06/2024 23:46 | 1.71867e+12 | 1.71867e+12 |\n",
       "| f8f5477f5a2e53616ae37421b1c660b971192bd8ff77e3398304c7ae42581fdc | 25/07/2024 17:34 | 25/07/2024 17:57 | 1.72193e+12 | 1.72193e+12 |\n",
       "| bfce39c89d6549f2bb94d8064d3ce69dc3d7e72b38f431d8aa0c4bf95ccee6bf | 25/07/2024 03:22 | 25/07/2024 03:58 | 1.72188e+12 | 1.72188e+12 |\n",
       "| 36d9cbb4c6bc0c1a6911436d2da0d09ec625e43e6552f575d4acc9cf487c4686 | 25/05/2024 16:01 | 25/05/2024 16:12 | 1.71665e+12 | 1.71665e+12 |\n",
       "| bfce39c89d6549f2bb94d8064d3ce69dc3d7e72b38f431d8aa0c4bf95ccee6bf | 23/06/2024 15:08 | 23/06/2024 17:10 | 1.71916e+12 | 1.71916e+12 |\n",
       "\n"
      ],
      "text/plain": [
       "  hashedEmail                                                     \n",
       "1 bfce39c89d6549f2bb94d8064d3ce69dc3d7e72b38f431d8aa0c4bf95ccee6bf\n",
       "2 36d9cbb4c6bc0c1a6911436d2da0d09ec625e43e6552f575d4acc9cf487c4686\n",
       "3 f8f5477f5a2e53616ae37421b1c660b971192bd8ff77e3398304c7ae42581fdc\n",
       "4 bfce39c89d6549f2bb94d8064d3ce69dc3d7e72b38f431d8aa0c4bf95ccee6bf\n",
       "5 36d9cbb4c6bc0c1a6911436d2da0d09ec625e43e6552f575d4acc9cf487c4686\n",
       "6 bfce39c89d6549f2bb94d8064d3ce69dc3d7e72b38f431d8aa0c4bf95ccee6bf\n",
       "  start_time       end_time         original_start_time original_end_time\n",
       "1 30/06/2024 18:12 30/06/2024 18:24 1.71977e+12         1.71977e+12      \n",
       "2 17/06/2024 23:33 17/06/2024 23:46 1.71867e+12         1.71867e+12      \n",
       "3 25/07/2024 17:34 25/07/2024 17:57 1.72193e+12         1.72193e+12      \n",
       "4 25/07/2024 03:22 25/07/2024 03:58 1.72188e+12         1.72188e+12      \n",
       "5 25/05/2024 16:01 25/05/2024 16:12 1.71665e+12         1.71665e+12      \n",
       "6 23/06/2024 15:08 23/06/2024 17:10 1.71916e+12         1.71916e+12      "
      ]
     },
     "metadata": {},
     "output_type": "display_data"
    },
    {
     "data": {
      "text/plain": [
       " hashedEmail         start_time          end_time         original_start_time\n",
       " Length:1535        Length:1535        Length:1535        Min.   :1.712e+12  \n",
       " Class :character   Class :character   Class :character   1st Qu.:1.716e+12  \n",
       " Mode  :character   Mode  :character   Mode  :character   Median :1.719e+12  \n",
       "                                                          Mean   :1.719e+12  \n",
       "                                                          3rd Qu.:1.722e+12  \n",
       "                                                          Max.   :1.727e+12  \n",
       "                                                                             \n",
       " original_end_time  \n",
       " Min.   :1.712e+12  \n",
       " 1st Qu.:1.716e+12  \n",
       " Median :1.719e+12  \n",
       " Mean   :1.719e+12  \n",
       " 3rd Qu.:1.722e+12  \n",
       " Max.   :1.727e+12  \n",
       " NA's   :2          "
      ]
     },
     "metadata": {},
     "output_type": "display_data"
    },
    {
     "name": "stdout",
     "output_type": "stream",
     "text": [
      "spc_tbl_ [1,535 × 5] (S3: spec_tbl_df/tbl_df/tbl/data.frame)\n",
      " $ hashedEmail        : chr [1:1535] \"bfce39c89d6549f2bb94d8064d3ce69dc3d7e72b38f431d8aa0c4bf95ccee6bf\" \"36d9cbb4c6bc0c1a6911436d2da0d09ec625e43e6552f575d4acc9cf487c4686\" \"f8f5477f5a2e53616ae37421b1c660b971192bd8ff77e3398304c7ae42581fdc\" \"bfce39c89d6549f2bb94d8064d3ce69dc3d7e72b38f431d8aa0c4bf95ccee6bf\" ...\n",
      " $ start_time         : chr [1:1535] \"30/06/2024 18:12\" \"17/06/2024 23:33\" \"25/07/2024 17:34\" \"25/07/2024 03:22\" ...\n",
      " $ end_time           : chr [1:1535] \"30/06/2024 18:24\" \"17/06/2024 23:46\" \"25/07/2024 17:57\" \"25/07/2024 03:58\" ...\n",
      " $ original_start_time: num [1:1535] 1.72e+12 1.72e+12 1.72e+12 1.72e+12 1.72e+12 ...\n",
      " $ original_end_time  : num [1:1535] 1.72e+12 1.72e+12 1.72e+12 1.72e+12 1.72e+12 ...\n",
      " - attr(*, \"spec\")=\n",
      "  .. cols(\n",
      "  ..   hashedEmail = \u001b[31mcol_character()\u001b[39m,\n",
      "  ..   start_time = \u001b[31mcol_character()\u001b[39m,\n",
      "  ..   end_time = \u001b[31mcol_character()\u001b[39m,\n",
      "  ..   original_start_time = \u001b[32mcol_double()\u001b[39m,\n",
      "  ..   original_end_time = \u001b[32mcol_double()\u001b[39m\n",
      "  .. )\n",
      " - attr(*, \"problems\")=<externalptr> \n"
     ]
    }
   ],
   "source": [
    "library(dplyr)\n",
    "library(ggplot2)\n",
    "library(readr)\n",
    "\n",
    "sessions = read_csv(\"Data/sessions.csv\")\n",
    "head(sessions)\n",
    "summary(sessions)\n",
    "str(sessions)"
   ]
  },
  {
   "cell_type": "markdown",
   "id": "ed75b4ec-4299-489f-acb1-646685d21501",
   "metadata": {},
   "source": [
    "- **Number of observations:**\n",
    "    - 1535 observations\n",
    "- **Number of variables:**\n",
    "    - 5 variables\n",
    "- **name and type of variables:**\n",
    "                                                                    \n",
    "| Name                | Type |\n",
    "|---------------------|------|\n",
    "| hashedEmail         | chr  |\n",
    "| start_time          | chr  |\n",
    "| end_time            | chr  |\n",
    "| original_start_time | num  |\n",
    "| original_end_time   | num  | \n",
    "\n",
    "- **What do the variables mean?:**\n",
    "    - hashedEmail:\n",
    "        - *these are the emails of users converted into unreadable strings*\n",
    "    - start_time:\n",
    "        - *Start time of a session in a human-readable format*\n",
    "    - end_time:\n",
    "        - *End time of a session in a human-readable format*\n",
    "    - original_start_time:\n",
    "        - *Start time in a format easier for computers*\n",
    "    - original_end_time:\n",
    "        - *End time in a format easier for computers*\n",
    "- **Issues?:**\n",
    "    - The 'start_time' and 'end_time' are in formats that need to be converted into values that computers can read when performing analysis. Likewise, 'original_start_time' and 'original_end_time' need to be converted into human-readable format after analysis for easier understanding.\n",
    "    - There may be outliers in the data. Some sessions might be extremely short due to a quit exit, or some very long because someone left the game on.\n",
    "    - For analysis, the two datasets will need to be combined. When that happens, we need to make sure each observation from one dataset is matched with the correct observation from the other dataset.\n"
   ]
  },
  {
   "cell_type": "code",
   "execution_count": 8,
   "id": "7607552c-4e68-47f0-b368-534663bc0e34",
   "metadata": {},
   "outputs": [
    {
     "name": "stderr",
     "output_type": "stream",
     "text": [
      "\u001b[1mRows: \u001b[22m\u001b[34m196\u001b[39m \u001b[1mColumns: \u001b[22m\u001b[34m9\u001b[39m\n",
      "\u001b[36m──\u001b[39m \u001b[1mColumn specification\u001b[22m \u001b[36m────────────────────────────────────────────────────────\u001b[39m\n",
      "\u001b[1mDelimiter:\u001b[22m \",\"\n",
      "\u001b[31mchr\u001b[39m (4): experience, hashedEmail, name, gender\n",
      "\u001b[32mdbl\u001b[39m (2): played_hours, age\n",
      "\u001b[33mlgl\u001b[39m (3): subscribe, individualId, organizationName\n",
      "\n",
      "\u001b[36mℹ\u001b[39m Use `spec()` to retrieve the full column specification for this data.\n",
      "\u001b[36mℹ\u001b[39m Specify the column types or set `show_col_types = FALSE` to quiet this message.\n"
     ]
    },
    {
     "data": {
      "text/html": [
       "<table class=\"dataframe\">\n",
       "<caption>A tibble: 6 × 9</caption>\n",
       "<thead>\n",
       "\t<tr><th scope=col>experience</th><th scope=col>subscribe</th><th scope=col>hashedEmail</th><th scope=col>played_hours</th><th scope=col>name</th><th scope=col>gender</th><th scope=col>age</th><th scope=col>individualId</th><th scope=col>organizationName</th></tr>\n",
       "\t<tr><th scope=col>&lt;chr&gt;</th><th scope=col>&lt;lgl&gt;</th><th scope=col>&lt;chr&gt;</th><th scope=col>&lt;dbl&gt;</th><th scope=col>&lt;chr&gt;</th><th scope=col>&lt;chr&gt;</th><th scope=col>&lt;dbl&gt;</th><th scope=col>&lt;lgl&gt;</th><th scope=col>&lt;lgl&gt;</th></tr>\n",
       "</thead>\n",
       "<tbody>\n",
       "\t<tr><td>Pro    </td><td> TRUE</td><td>f6daba428a5e19a3d47574858c13550499be23603422e6a0ee9728f8b53e192d</td><td>30.3</td><td>Morgan   </td><td>Male  </td><td> 9</td><td>NA</td><td>NA</td></tr>\n",
       "\t<tr><td>Veteran</td><td> TRUE</td><td>f3c813577c458ba0dfef80996f8f32c93b6e8af1fa939732842f2312358a88e9</td><td> 3.8</td><td>Christian</td><td>Male  </td><td>17</td><td>NA</td><td>NA</td></tr>\n",
       "\t<tr><td>Veteran</td><td>FALSE</td><td>b674dd7ee0d24096d1c019615ce4d12b20fcbff12d79d3c5a9d2118eb7ccbb28</td><td> 0.0</td><td>Blake    </td><td>Male  </td><td>17</td><td>NA</td><td>NA</td></tr>\n",
       "\t<tr><td>Amateur</td><td> TRUE</td><td>23fe711e0e3b77f1da7aa221ab1192afe21648d47d2b4fa7a5a659ff443a0eb5</td><td> 0.7</td><td>Flora    </td><td>Female</td><td>21</td><td>NA</td><td>NA</td></tr>\n",
       "\t<tr><td>Regular</td><td> TRUE</td><td>7dc01f10bf20671ecfccdac23812b1b415acd42c2147cb0af4d48fcce2420f3e</td><td> 0.1</td><td>Kylie    </td><td>Male  </td><td>21</td><td>NA</td><td>NA</td></tr>\n",
       "\t<tr><td>Amateur</td><td> TRUE</td><td>f58aad5996a435f16b0284a3b267f973f9af99e7a89bee0430055a44fa92f977</td><td> 0.0</td><td>Adrian   </td><td>Female</td><td>17</td><td>NA</td><td>NA</td></tr>\n",
       "</tbody>\n",
       "</table>\n"
      ],
      "text/latex": [
       "A tibble: 6 × 9\n",
       "\\begin{tabular}{lllllllll}\n",
       " experience & subscribe & hashedEmail & played\\_hours & name & gender & age & individualId & organizationName\\\\\n",
       " <chr> & <lgl> & <chr> & <dbl> & <chr> & <chr> & <dbl> & <lgl> & <lgl>\\\\\n",
       "\\hline\n",
       "\t Pro     &  TRUE & f6daba428a5e19a3d47574858c13550499be23603422e6a0ee9728f8b53e192d & 30.3 & Morgan    & Male   &  9 & NA & NA\\\\\n",
       "\t Veteran &  TRUE & f3c813577c458ba0dfef80996f8f32c93b6e8af1fa939732842f2312358a88e9 &  3.8 & Christian & Male   & 17 & NA & NA\\\\\n",
       "\t Veteran & FALSE & b674dd7ee0d24096d1c019615ce4d12b20fcbff12d79d3c5a9d2118eb7ccbb28 &  0.0 & Blake     & Male   & 17 & NA & NA\\\\\n",
       "\t Amateur &  TRUE & 23fe711e0e3b77f1da7aa221ab1192afe21648d47d2b4fa7a5a659ff443a0eb5 &  0.7 & Flora     & Female & 21 & NA & NA\\\\\n",
       "\t Regular &  TRUE & 7dc01f10bf20671ecfccdac23812b1b415acd42c2147cb0af4d48fcce2420f3e &  0.1 & Kylie     & Male   & 21 & NA & NA\\\\\n",
       "\t Amateur &  TRUE & f58aad5996a435f16b0284a3b267f973f9af99e7a89bee0430055a44fa92f977 &  0.0 & Adrian    & Female & 17 & NA & NA\\\\\n",
       "\\end{tabular}\n"
      ],
      "text/markdown": [
       "\n",
       "A tibble: 6 × 9\n",
       "\n",
       "| experience &lt;chr&gt; | subscribe &lt;lgl&gt; | hashedEmail &lt;chr&gt; | played_hours &lt;dbl&gt; | name &lt;chr&gt; | gender &lt;chr&gt; | age &lt;dbl&gt; | individualId &lt;lgl&gt; | organizationName &lt;lgl&gt; |\n",
       "|---|---|---|---|---|---|---|---|---|\n",
       "| Pro     |  TRUE | f6daba428a5e19a3d47574858c13550499be23603422e6a0ee9728f8b53e192d | 30.3 | Morgan    | Male   |  9 | NA | NA |\n",
       "| Veteran |  TRUE | f3c813577c458ba0dfef80996f8f32c93b6e8af1fa939732842f2312358a88e9 |  3.8 | Christian | Male   | 17 | NA | NA |\n",
       "| Veteran | FALSE | b674dd7ee0d24096d1c019615ce4d12b20fcbff12d79d3c5a9d2118eb7ccbb28 |  0.0 | Blake     | Male   | 17 | NA | NA |\n",
       "| Amateur |  TRUE | 23fe711e0e3b77f1da7aa221ab1192afe21648d47d2b4fa7a5a659ff443a0eb5 |  0.7 | Flora     | Female | 21 | NA | NA |\n",
       "| Regular |  TRUE | 7dc01f10bf20671ecfccdac23812b1b415acd42c2147cb0af4d48fcce2420f3e |  0.1 | Kylie     | Male   | 21 | NA | NA |\n",
       "| Amateur |  TRUE | f58aad5996a435f16b0284a3b267f973f9af99e7a89bee0430055a44fa92f977 |  0.0 | Adrian    | Female | 17 | NA | NA |\n",
       "\n"
      ],
      "text/plain": [
       "  experience subscribe\n",
       "1 Pro         TRUE    \n",
       "2 Veteran     TRUE    \n",
       "3 Veteran    FALSE    \n",
       "4 Amateur     TRUE    \n",
       "5 Regular     TRUE    \n",
       "6 Amateur     TRUE    \n",
       "  hashedEmail                                                      played_hours\n",
       "1 f6daba428a5e19a3d47574858c13550499be23603422e6a0ee9728f8b53e192d 30.3        \n",
       "2 f3c813577c458ba0dfef80996f8f32c93b6e8af1fa939732842f2312358a88e9  3.8        \n",
       "3 b674dd7ee0d24096d1c019615ce4d12b20fcbff12d79d3c5a9d2118eb7ccbb28  0.0        \n",
       "4 23fe711e0e3b77f1da7aa221ab1192afe21648d47d2b4fa7a5a659ff443a0eb5  0.7        \n",
       "5 7dc01f10bf20671ecfccdac23812b1b415acd42c2147cb0af4d48fcce2420f3e  0.1        \n",
       "6 f58aad5996a435f16b0284a3b267f973f9af99e7a89bee0430055a44fa92f977  0.0        \n",
       "  name      gender age individualId organizationName\n",
       "1 Morgan    Male    9  NA           NA              \n",
       "2 Christian Male   17  NA           NA              \n",
       "3 Blake     Male   17  NA           NA              \n",
       "4 Flora     Female 21  NA           NA              \n",
       "5 Kylie     Male   21  NA           NA              \n",
       "6 Adrian    Female 17  NA           NA              "
      ]
     },
     "metadata": {},
     "output_type": "display_data"
    },
    {
     "data": {
      "text/plain": [
       "  experience        subscribe       hashedEmail         played_hours    \n",
       " Length:196         Mode :logical   Length:196         Min.   :  0.000  \n",
       " Class :character   FALSE:52        Class :character   1st Qu.:  0.000  \n",
       " Mode  :character   TRUE :144       Mode  :character   Median :  0.100  \n",
       "                                                       Mean   :  5.846  \n",
       "                                                       3rd Qu.:  0.600  \n",
       "                                                       Max.   :223.100  \n",
       "     name              gender               age        individualId  \n",
       " Length:196         Length:196         Min.   : 8.00   Mode:logical  \n",
       " Class :character   Class :character   1st Qu.:17.00   NA's:196      \n",
       " Mode  :character   Mode  :character   Median :19.00                 \n",
       "                                       Mean   :21.28                 \n",
       "                                       3rd Qu.:22.00                 \n",
       "                                       Max.   :99.00                 \n",
       " organizationName\n",
       " Mode:logical    \n",
       " NA's:196        \n",
       "                 \n",
       "                 \n",
       "                 \n",
       "                 "
      ]
     },
     "metadata": {},
     "output_type": "display_data"
    },
    {
     "name": "stdout",
     "output_type": "stream",
     "text": [
      "spc_tbl_ [196 × 9] (S3: spec_tbl_df/tbl_df/tbl/data.frame)\n",
      " $ experience      : chr [1:196] \"Pro\" \"Veteran\" \"Veteran\" \"Amateur\" ...\n",
      " $ subscribe       : logi [1:196] TRUE TRUE FALSE TRUE TRUE TRUE ...\n",
      " $ hashedEmail     : chr [1:196] \"f6daba428a5e19a3d47574858c13550499be23603422e6a0ee9728f8b53e192d\" \"f3c813577c458ba0dfef80996f8f32c93b6e8af1fa939732842f2312358a88e9\" \"b674dd7ee0d24096d1c019615ce4d12b20fcbff12d79d3c5a9d2118eb7ccbb28\" \"23fe711e0e3b77f1da7aa221ab1192afe21648d47d2b4fa7a5a659ff443a0eb5\" ...\n",
      " $ played_hours    : num [1:196] 30.3 3.8 0 0.7 0.1 0 0 0 0.1 0 ...\n",
      " $ name            : chr [1:196] \"Morgan\" \"Christian\" \"Blake\" \"Flora\" ...\n",
      " $ gender          : chr [1:196] \"Male\" \"Male\" \"Male\" \"Female\" ...\n",
      " $ age             : num [1:196] 9 17 17 21 21 17 19 21 17 22 ...\n",
      " $ individualId    : logi [1:196] NA NA NA NA NA NA ...\n",
      " $ organizationName: logi [1:196] NA NA NA NA NA NA ...\n",
      " - attr(*, \"spec\")=\n",
      "  .. cols(\n",
      "  ..   experience = \u001b[31mcol_character()\u001b[39m,\n",
      "  ..   subscribe = \u001b[33mcol_logical()\u001b[39m,\n",
      "  ..   hashedEmail = \u001b[31mcol_character()\u001b[39m,\n",
      "  ..   played_hours = \u001b[32mcol_double()\u001b[39m,\n",
      "  ..   name = \u001b[31mcol_character()\u001b[39m,\n",
      "  ..   gender = \u001b[31mcol_character()\u001b[39m,\n",
      "  ..   age = \u001b[32mcol_double()\u001b[39m,\n",
      "  ..   individualId = \u001b[33mcol_logical()\u001b[39m,\n",
      "  ..   organizationName = \u001b[33mcol_logical()\u001b[39m\n",
      "  .. )\n",
      " - attr(*, \"problems\")=<externalptr> \n"
     ]
    }
   ],
   "source": [
    "players = read_csv(\"Data/players.csv\")\n",
    "head(players)\n",
    "summary(players)\n",
    "str(players)"
   ]
  },
  {
   "cell_type": "markdown",
   "id": "965c76d2-e630-43cc-8a34-8d5a8fe2351b",
   "metadata": {},
   "source": [
    "- **Number of observations:**\n",
    "    - 196 observations\n",
    "- **Number of variables:**\n",
    "    - 9 variables\n",
    "- **name and type of variables:**\n",
    "                                                                    \n",
    "| Name             | Type |\n",
    "|------------------|------|\n",
    "| experience       | chr  |\n",
    "| subscribe        | logi |\n",
    "| hashedEmail      | chr  |\n",
    "| played_hours     | num  |\n",
    "| name             | chr  | \n",
    "| gender           | chr  |\n",
    "| age              | num  |\n",
    "| individualId     | logi |\n",
    "| organizationName | logi |\n",
    "\n",
    "- **What do the variables mean?:**\n",
    "    - experience:\n",
    "        - *What level players are at (pro, veteran, amateur, regular)*\n",
    "    - subscribe:\n",
    "        - *Whether or not the player has a subscription*\n",
    "    - hashedEmail:\n",
    "        - *Hashed version of player's email*\n",
    "    - played_hours:\n",
    "        - *How many hours a player has played*\n",
    "    - name:\n",
    "        - *Name of the player*\n",
    "    - gender:\n",
    "        - *Gender of the player*\n",
    "    - age:\n",
    "        - *Age of the player*\n",
    "    - individualId:\n",
    "        - *ID for player*\n",
    "    - organizationName:\n",
    "        - *Organization player is associated with*\n",
    "- **Issues?:**\n",
    "    - Variables 'individualId' and 'organizationName' don't contain any values. These missing values may be correlated with other values in the dataset\n",
    "    - There are some outliers in the 'age' and 'played_hours' variables which may skew the data.\n",
    "    - The hashed emails are not in the order of the sessions.csv dataset. When merging, both datasets need to be organized according to the email identification.\n",
    "    - There are only 196 observations in players.csv vs. 1535 observations in sessions.csv."
   ]
  },
  {
   "cell_type": "markdown",
   "id": "c1e7c5c7-8a59-44a3-915f-8634aebc90ce",
   "metadata": {},
   "source": [
    "To do so, the two datasets need to be merged and organized based on matching hashed emails. Then filter the data by experience level (veteran and up) and age (under 20). For non-numerical values, they will need to be encoded for the computer to read.\n",
    "\n",
    "Since, one player may have multiple start and end times, we will first use played_hours variable from players.csv as the response variable first. "
   ]
  },
  {
   "cell_type": "markdown",
   "id": "7991d00d-bb3f-4313-9638-1a3f24a129e7",
   "metadata": {},
   "source": [
    "**Methods & Results**\n",
    "\n",
    "Linear regression will be the first model to test. This is because we believe that age and experience level may have a linear relationship with time played (e.g. if you're good at the game, you play more, or the younger you are the more time you have to play).  \n",
    "\n",
    "However, linear regression will not be effective if the variables are not linearly correlated. If linear regression does not reveal a relationship, we will switch to classification using knn regression or knn. \n",
    "\n",
    "Also, we do have a lot of people who have not played the game at all. Using linear regression will skew the data, hence it may be worth to try filtering 0 played_hours out. This then poses the risk of the model not having enough data to learn. Using sessions to figure out played_time will be the next step. \n",
    "\n",
    "To fully explore the data, we will use both linear and knn regression as well as the K-nearest neighbor classification method. Results will be compared with metrics such as mpse and correlation coefficients. \n",
    "\n",
    "Data splitting may differ depending on the model we are testing, but for the linear regression model we are aiming for a 70% training and 30% testing splits. However, if we do decide to use cross-validation to test things out, we will start with a cv value of 5 or smaller as the dataset is small. "
   ]
  },
  {
   "cell_type": "code",
   "execution_count": null,
   "id": "eaa39573-e57e-48e6-9225-a4a3c093ffcb",
   "metadata": {},
   "outputs": [],
   "source": []
  }
 ],
 "metadata": {
  "kernelspec": {
   "display_name": "R",
   "language": "R",
   "name": "ir"
  },
  "language_info": {
   "codemirror_mode": "r",
   "file_extension": ".r",
   "mimetype": "text/x-r-source",
   "name": "R",
   "pygments_lexer": "r",
   "version": "4.3.3"
  }
 },
 "nbformat": 4,
 "nbformat_minor": 5
}
